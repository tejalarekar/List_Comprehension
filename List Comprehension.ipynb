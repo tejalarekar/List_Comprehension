{
 "cells": [
  {
   "cell_type": "code",
   "execution_count": 1,
   "id": "f254f49e",
   "metadata": {},
   "outputs": [
    {
     "data": {
      "text/plain": [
       "[2, 4, 6, 8, 10, 12, 14, 16, 18]"
      ]
     },
     "execution_count": 1,
     "metadata": {},
     "output_type": "execute_result"
    }
   ],
   "source": [
    "# Print even numbers\n",
    "\n",
    "[i for i in range(1,20) if i%2==0]"
   ]
  },
  {
   "cell_type": "code",
   "execution_count": 2,
   "id": "b439ece2",
   "metadata": {},
   "outputs": [
    {
     "data": {
      "text/plain": [
       "[1, 3, 5, 7, 9, 11, 13, 15, 17, 19]"
      ]
     },
     "execution_count": 2,
     "metadata": {},
     "output_type": "execute_result"
    }
   ],
   "source": [
    "# Print odd numbers\n",
    "\n",
    "[i for i in range(1,20) if i%2==1]"
   ]
  },
  {
   "cell_type": "code",
   "execution_count": 26,
   "id": "f4ca2cf4",
   "metadata": {},
   "outputs": [
    {
     "data": {
      "text/plain": [
       "['T', 'e', 'j', 'a', 'l']"
      ]
     },
     "execution_count": 26,
     "metadata": {},
     "output_type": "execute_result"
    }
   ],
   "source": [
    "# Traverse the string\n",
    "\n",
    "s = 'Tejal'\n",
    "[i for i in s]"
   ]
  },
  {
   "cell_type": "markdown",
   "id": "c9dbe83c",
   "metadata": {},
   "source": [
    "### To reverse a string"
   ]
  },
  {
   "cell_type": "code",
   "execution_count": 5,
   "id": "c4cdd7d1",
   "metadata": {},
   "outputs": [
    {
     "data": {
      "text/plain": [
       "'l a j e T   m a   i   i H'"
      ]
     },
     "execution_count": 5,
     "metadata": {},
     "output_type": "execute_result"
    }
   ],
   "source": [
    "str1 = 'Hi i am Tejal'\n",
    "' '.join([i for i in str1[::-1]])  # Reversing by character"
   ]
  },
  {
   "cell_type": "code",
   "execution_count": 8,
   "id": "4ced9108",
   "metadata": {},
   "outputs": [
    {
     "data": {
      "text/plain": [
       "['Tejal', 'am', 'i', 'Hi']"
      ]
     },
     "execution_count": 8,
     "metadata": {},
     "output_type": "execute_result"
    }
   ],
   "source": [
    "str1 = 'Hi i am Tejal'\n",
    "[i for i in str1.split()[::-1]]  # Reversing by words"
   ]
  },
  {
   "cell_type": "markdown",
   "id": "380309ef",
   "metadata": {},
   "source": [
    "### Identify numbers in a string using the isdigit() method"
   ]
  },
  {
   "cell_type": "code",
   "execution_count": 10,
   "id": "00162295",
   "metadata": {},
   "outputs": [
    {
     "data": {
      "text/plain": [
       "'9876543210'"
      ]
     },
     "execution_count": 10,
     "metadata": {},
     "output_type": "execute_result"
    }
   ],
   "source": [
    "# user data entered as name and phone number\n",
    "user_data = \"Elvis Presley 987-654-3210\"\n",
    "\n",
    "phone_no = ''.join([x for x in user_data if x.isdigit()])\n",
    "phone_no"
   ]
  },
  {
   "cell_type": "markdown",
   "id": "fbff4e34",
   "metadata": {},
   "source": [
    "### Adding arguments to list comprehension"
   ]
  },
  {
   "cell_type": "code",
   "execution_count": 11,
   "id": "de700100",
   "metadata": {},
   "outputs": [
    {
     "name": "stdout",
     "output_type": "stream",
     "text": [
      "[2, 4, 6, 8, 10, 12, 14, 16, 18]\n"
     ]
    }
   ],
   "source": [
    "# list comprehension with functions\n",
    "# create a function that returns a number doubled\n",
    "def double(x):\n",
    "    return x*2\n",
    "\n",
    "nums = [double(x) for x in range(1,10)]\n",
    "print(nums)"
   ]
  },
  {
   "cell_type": "markdown",
   "id": "6050dd70",
   "metadata": {},
   "source": [
    "### Nested for loop in List Comprehension"
   ]
  },
  {
   "cell_type": "code",
   "execution_count": 13,
   "id": "cbfa7517",
   "metadata": {},
   "outputs": [
    {
     "data": {
      "text/plain": [
       "[11, 21, 31, 12, 22, 32, 13, 23, 33]"
      ]
     },
     "execution_count": 13,
     "metadata": {},
     "output_type": "execute_result"
    }
   ],
   "source": [
    "[x+y for x in [1,2,3] for y in [10,20,30]]"
   ]
  },
  {
   "cell_type": "markdown",
   "id": "f70136fe",
   "metadata": {},
   "source": [
    "### If-else in List Comprehension"
   ]
  },
  {
   "cell_type": "code",
   "execution_count": 14,
   "id": "996b7505",
   "metadata": {},
   "outputs": [
    {
     "data": {
      "text/plain": [
       "['Audi', 'tata', 'maruti', 'land rovar', 'jaguar']"
      ]
     },
     "execution_count": 14,
     "metadata": {},
     "output_type": "execute_result"
    }
   ],
   "source": [
    "cars = [\"tesla\",\"tata\",\"maruti\",\"land rovar\", \"jaguar\"]\n",
    "nwList = [x if x!='tesla' else 'Audi' for x in cars]\n",
    "nwList"
   ]
  },
  {
   "cell_type": "code",
   "execution_count": 15,
   "id": "e89c8d89",
   "metadata": {},
   "outputs": [
    {
     "data": {
      "text/plain": [
       "[0, 11, 12, 3, 14, 15, 6, 17, 18, 9, 20]"
      ]
     },
     "execution_count": 15,
     "metadata": {},
     "output_type": "execute_result"
    }
   ],
   "source": [
    "[i if i%3==0 else i+10 for i in range(11)]"
   ]
  },
  {
   "cell_type": "markdown",
   "id": "dc7125ce",
   "metadata": {},
   "source": [
    "### Print True for even numbers and false for odd numbers"
   ]
  },
  {
   "cell_type": "code",
   "execution_count": 16,
   "id": "ba8ea027",
   "metadata": {},
   "outputs": [
    {
     "data": {
      "text/plain": [
       "[True, False, True, False, True, False, True, False, True, False, True]"
      ]
     },
     "execution_count": 16,
     "metadata": {},
     "output_type": "execute_result"
    }
   ],
   "source": [
    "[True if i%2==0 else False for i in range(0,11)]"
   ]
  },
  {
   "cell_type": "code",
   "execution_count": 17,
   "id": "48a31b6b",
   "metadata": {},
   "outputs": [
    {
     "data": {
      "text/plain": [
       "[True, False, True, False, True, False, True, False, True, False, True]"
      ]
     },
     "execution_count": 17,
     "metadata": {},
     "output_type": "execute_result"
    }
   ],
   "source": [
    "[i%2==0 for i in range(0,11)]"
   ]
  },
  {
   "cell_type": "markdown",
   "id": "a13334bf",
   "metadata": {},
   "source": [
    "### Nested loop - print all the possible combination of 2 lists"
   ]
  },
  {
   "cell_type": "code",
   "execution_count": 18,
   "id": "1ca0dc7c",
   "metadata": {},
   "outputs": [
    {
     "name": "stdout",
     "output_type": "stream",
     "text": [
      "[('A', 'a'), ('A', 'b'), ('A', 'c'), ('B', 'a'), ('B', 'b'), ('B', 'c'), ('C', 'a'), ('C', 'b'), ('C', 'c')]\n",
      "-----------------------------------------------------------------------------------------------------------------------------\n",
      "[[('A', 'a'), ('B', 'a'), ('C', 'a')], [('A', 'b'), ('B', 'b'), ('C', 'b')], [('A', 'c'), ('B', 'c'), ('C', 'c')]]\n",
      "-----------------------------------------------------------------------------------------------------------------------------\n",
      "[[('a', 'A'), ('a', 'B'), ('a', 'C')], [('b', 'A'), ('b', 'B'), ('b', 'C')], [('c', 'A'), ('c', 'B'), ('c', 'C')]]\n"
     ]
    }
   ],
   "source": [
    "team1 = [\"A\", \"B\" ,\"C\"]\n",
    "team2 = [\"a\", \"b\", \"c\"]\n",
    "\n",
    "newList =[(i,j) for i in team1 for j in team2]\n",
    "print(newList)\n",
    "print(\"-\"*125)\n",
    "newList =[[(i,j) for i in team1] for j in team2]\n",
    "print(newList)\n",
    "print(\"-\"*125)\n",
    "newList =[[(j,i) for i in team1] for j in team2]\n",
    "print(newList)"
   ]
  },
  {
   "cell_type": "markdown",
   "id": "5f83bc3a",
   "metadata": {},
   "source": [
    "### List comprehension with Dictionary"
   ]
  },
  {
   "cell_type": "code",
   "execution_count": 19,
   "id": "8e6fbb4f",
   "metadata": {},
   "outputs": [
    {
     "data": {
      "text/plain": [
       "{2: 4, 4: 16, 5: 25, 6: 36}"
      ]
     },
     "execution_count": 19,
     "metadata": {},
     "output_type": "execute_result"
    }
   ],
   "source": [
    "numbers= [2,4,5,6]\n",
    "{i:i**2 for i in numbers}"
   ]
  },
  {
   "cell_type": "code",
   "execution_count": 20,
   "id": "c2820855",
   "metadata": {},
   "outputs": [
    {
     "data": {
      "text/plain": [
       "{'milk': 60.0, 'coffee': 30.0, 'tea': 15.0}"
      ]
     },
     "execution_count": 20,
     "metadata": {},
     "output_type": "execute_result"
    }
   ],
   "source": [
    "old_price = {\"milk\":40,\"coffee\":20,\"tea\":10}\n",
    "new_price = {k:y*1.5 for k,y in old_price.items()}\n",
    "new_price"
   ]
  },
  {
   "cell_type": "markdown",
   "id": "2d0eb9ed",
   "metadata": {},
   "source": [
    "### List comprehension with Sets"
   ]
  },
  {
   "cell_type": "code",
   "execution_count": 21,
   "id": "2c75682a",
   "metadata": {},
   "outputs": [
    {
     "name": "stdout",
     "output_type": "stream",
     "text": [
      "<class 'set'>\n",
      "{'D', 'S', 'c', 'a', 'e', 't', 'i', ' ', 'n'}\n"
     ]
    }
   ],
   "source": [
    "name = \"Data Science\"\n",
    "newList = {x for x in name}\n",
    "print(type(newList))\n",
    "print(newList) # gives random name because set in unordered list and doesnt consider repeatation"
   ]
  },
  {
   "cell_type": "markdown",
   "id": "ad966810",
   "metadata": {},
   "source": [
    "### Flatten the Nested List with List Comprehension"
   ]
  },
  {
   "cell_type": "code",
   "execution_count": 25,
   "id": "5acf19a9",
   "metadata": {},
   "outputs": [
    {
     "data": {
      "text/plain": [
       "[1, 2, 3, 4, 5, 6, 7, 8, 9]"
      ]
     },
     "execution_count": 25,
     "metadata": {},
     "output_type": "execute_result"
    }
   ],
   "source": [
    "num = [[1,2,3],[4,5,6],[7,8,9]]\n",
    "[j for i in num for j in i ]"
   ]
  }
 ],
 "metadata": {
  "kernelspec": {
   "display_name": "Python 3 (ipykernel)",
   "language": "python",
   "name": "python3"
  },
  "language_info": {
   "codemirror_mode": {
    "name": "ipython",
    "version": 3
   },
   "file_extension": ".py",
   "mimetype": "text/x-python",
   "name": "python",
   "nbconvert_exporter": "python",
   "pygments_lexer": "ipython3",
   "version": "3.9.13"
  }
 },
 "nbformat": 4,
 "nbformat_minor": 5
}
